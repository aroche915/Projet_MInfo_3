{
 "cells": [
  {
   "cell_type": "markdown",
   "metadata": {},
   "source": [
    "PARTIE THÉORIQUE"
   ]
  },
  {
   "cell_type": "markdown",
   "metadata": {},
   "source": [
    "Q1. Nous pouvons estimer l'espérance conditionnelle par la moyenne empirique de simulations conditionnelles grâce à la loi forte des grands nombres"
   ]
  },
  {
   "cell_type": "markdown",
   "metadata": {},
   "source": [
    "Q2. On cherche à calculer la loi de Z sachant que \n",
    "$ (Z(x_{j_{1}}), ..., Z(x_{j_{n}})) = (z(x_{j_{1}}), ..., z(x_{j_{n}}))$ \n",
    "  \n",
    "$Z$ est un vecteur gaussien, nous allons donc procéder comme dans le cours de probabilités IV. \n",
    "  \n",
    "Nous posons donc à cet effet: \n",
    "  \n",
    "$T = (Z(x_{j_{1}}), ..., Z(x_{j_{n}}))$ et $t = (z(x_{j_{1}}), ..., z(x_{j_{n}}))$ \n",
    "  \n",
    "et nous cherchons à calculer la loi de $(Z\\vert T = t)$\n",
    "  \n",
    "D'après le cours, on a tout de suite que la variable aléatoire $(Z\\vert T = t)$ est gaussienne d'espérance:\n",
    "$ m_{Z\\vert T = t} = m_{Z} + C_{Z, T}C_{T}^{-1}(t-m_{t})$  \n",
    "\n",
    "et de matrice de covariance:\n",
    "$C S_{Z} = C_{Z} + C_{Z, T}C_{T}^{-1}C_{T, Z}$   \n",
    "Avec $m_{Z} = (\\mu, ..., \\mu)$, $C_{Z, T} = Cov(Z, T)$, $C_{T} = Cov(T, T)$"
   ]
  },
  {
   "cell_type": "markdown",
   "metadata": {},
   "source": [
    " Q3. Y est un vecteur de composantes gaussiennes indépendantes, réduites (de variance 1) et centrées (d'espérance nulle) alors le vecteur Z = m + RY est gaussien comme combinaison linéaire de variable aléatoires gaussienne d'espérance m et de variance $ C=R R^t$ (matrice de covariance)"
   ]
  },
  {
   "cell_type": "markdown",
   "metadata": {},
   "source": [
    "Q4. Supposons que l'on ait $Y = (Y_{1}, ..., Y_{n})$ un vecteur de composantes gaussiennes indépendantes toutes centrées réduites. D'après la question précédente, le vecteur $Z = m + RY$ est un gaussien d'espérance $m$ et de variance $C = RR^{t}$.\n",
    "Nous allons donc utliser ce principe: on choisit $m = m_{Z\\vert T=t}$ et on cherche $R$ tel que $RR^{t} = CS_{Z} $\n",
    "On trouve cette matrice grâce à la décomposition de Cholesky de $CS_{Z} $\n",
    "\n",
    "Enfin, on peut simuler un tel vecteur $Y$ grâce à la méthode de Box-Muller."
   ]
  },
  {
   "cell_type": "code",
   "execution_count": 23,
   "metadata": {},
   "outputs": [],
   "source": [
    "#Chargement de dépendances\n",
    "\n",
    "import numpy as np\n",
    "import matplotlib.pyplot as plt\n",
    "import random as rd\n",
    "\n",
    "#Discrétisation\n",
    "A=0\n",
    "B=500\n",
    "N=101 #Nombre de points de discrétisation\n",
    "Delta = (B-A)/(N-1)\n",
    "discretization_indexes = np.arange(N)\n",
    "discretization = discretization_indexes*Delta\n",
    "#Paramètres du modèle\n",
    "\n",
    "mu=-5\n",
    "a = 50\n",
    "sigma2 = 12\n",
    "\n",
    "#Données\n",
    "\n",
    "observation_indexes = [0,20,40,60,80,100]\n",
    "depth = np.array([0,-4,-12.8,-1,-6.5,0])\n",
    "\n",
    "#Indices des composantes correspondant aux observations et aux componsantes non observées\n",
    "\n",
    "unknown_indexes=list(set(discretization_indexes)-set(observation_indexes))"
   ]
  },
  {
   "cell_type": "markdown",
   "metadata": {},
   "source": [
    "## Questions"
   ]
  },
  {
   "cell_type": "code",
   "execution_count": 3,
   "metadata": {},
   "outputs": [],
   "source": [
    "#question 1\n",
    "def C(h, a, sigma_2) :\n",
    "    return sigma_2 * np.exp(-np.abs(h)/a)"
   ]
  },
  {
   "cell_type": "code",
   "execution_count": 4,
   "metadata": {},
   "outputs": [
    {
     "name": "stdout",
     "output_type": "stream",
     "text": [
      "[[  0.   5.  10. ... 490. 495. 500.]\n",
      " [  5.   0.   5. ... 485. 490. 495.]\n",
      " [ 10.   5.   0. ... 480. 485. 490.]\n",
      " ...\n",
      " [490. 485. 480. ...   0.   5.  10.]\n",
      " [495. 490. 485. ...   5.   0.   5.]\n",
      " [500. 495. 490. ...  10.   5.   0.]]\n"
     ]
    }
   ],
   "source": [
    "#Question 2\n",
    "# On construit la matrice D = (dij) où dij est la distance en abscisse entre les points i et j.\n",
    "\n",
    "D = np.zeros((N,N))\n",
    "for i in range(N):\n",
    "    for j in range(i):\n",
    "        D[i,j] = Delta * (i-j)\n",
    "        D[j,i] = D[i,j]\n",
    "        \n",
    "print(D)"
   ]
  },
  {
   "cell_type": "code",
   "execution_count": 5,
   "metadata": {},
   "outputs": [
    {
     "name": "stdout",
     "output_type": "stream",
     "text": [
      "[[1.20000000e+01 1.08580490e+01 9.82476904e+00 ... 6.65419193e-04\n",
      "  6.02096185e-04 5.44799157e-04]\n",
      " [1.08580490e+01 1.20000000e+01 1.08580490e+01 ... 7.35401941e-04\n",
      "  6.65419193e-04 6.02096185e-04]\n",
      " [9.82476904e+00 1.08580490e+01 1.20000000e+01 ... 8.12744838e-04\n",
      "  7.35401941e-04 6.65419193e-04]\n",
      " ...\n",
      " [6.65419193e-04 7.35401941e-04 8.12744838e-04 ... 1.20000000e+01\n",
      "  1.08580490e+01 9.82476904e+00]\n",
      " [6.02096185e-04 6.65419193e-04 7.35401941e-04 ... 1.08580490e+01\n",
      "  1.20000000e+01 1.08580490e+01]\n",
      " [5.44799157e-04 6.02096185e-04 6.65419193e-04 ... 9.82476904e+00\n",
      "  1.08580490e+01 1.20000000e+01]]\n"
     ]
    }
   ],
   "source": [
    "#Question 3\n",
    "C_Z = C(D, a, sigma2)\n",
    "print(C_Z)"
   ]
  },
  {
   "cell_type": "markdown",
   "metadata": {},
   "source": [
    "4. Extraire les 3 matrices de covariance suivantes :\n",
    "\n",
    " * entre les observations\n",
    "\n",
    " * entre les observations et les inconnues\n",
    "\n",
    " * entre les inconnues"
   ]
  },
  {
   "cell_type": "code",
   "execution_count": 7,
   "metadata": {},
   "outputs": [],
   "source": [
    "#Question 4\n",
    "\n",
    "#on extrait la matrice de covariance entre les observations:\n",
    "C_T = [[C_Z[i,j] for j in observation_indexes] for i in observation_indexes]\n",
    "C_T = np.array(C_T)\n",
    "\n",
    "#on extrait celles des inconnues\n",
    "C_inc = [[C_Z[i,j] for j in unknown_indexes] for i in unknown_indexes]\n",
    "C_inc = np.array(C_inc)\n",
    "\n",
    "#on extrait celle des observations et des inconnues\n",
    "C_T_Z = np.array([[ C_Z[i][j] for i in observation_indexes] for j in unknown_indexes])\n"
   ]
  },
  {
   "cell_type": "markdown",
   "metadata": {},
   "source": [
    "Question 5   \n",
    "D'après la question 2, $ m_{Z\\vert T = t} = m_{Z} + C_{Z, T}C_{T}^{-1}(t-m_{t})$"
   ]
  },
  {
   "cell_type": "code",
   "execution_count": 8,
   "metadata": {},
   "outputs": [
    {
     "data": {
      "image/png": "[encoded data removed]",
      "text/plain": [
       "<Figure size 432x288 with 1 Axes>"
      ]
     },
     "metadata": {
      "needs_background": "light"
     },
     "output_type": "display_data"
    }
   ],
   "source": [
    "Inv_C_T = np.linalg.inv(C_T)\n",
    "\n",
    "m_Z = [-5 for i in range (len(unknown_indexes))]\n",
    "m_t = [-5 for i in range (len(observation_indexes))]\n",
    "\n",
    "m_Z_t = m_Z + np.matmul(C_T_Z, np.matmul(Inv_C_T, (depth-m_t)))\n",
    "\n",
    "plt.scatter(unknown_indexes, m_Z_t)\n",
    "plt.scatter(observation_indexes, depth)\n",
    "plt.show()"
   ]
  },
  {
   "cell_type": "code",
   "execution_count": 9,
   "metadata": {},
   "outputs": [],
   "source": [
    "#Fonction qui complète un \"résultat conditionnel\" (comme l'espérance) de profondeurs\n",
    "#à partir des données d'observations pour obtenir un vecteur à N coordonnées\n",
    "\n",
    "def complete_profondeur(Liste):\n",
    "    L=[]\n",
    "    for j in Liste:\n",
    "        L.append(j)\n",
    "    for i in range(len(observation_indexes)):\n",
    "        L.insert(observation_indexes[i],depth[i])\n",
    "    return L"
   ]
  },
  {
   "cell_type": "code",
   "execution_count": 10,
   "metadata": {},
   "outputs": [
    {
     "data": {
      "image/png": "[encoded data removed]",
      "text/plain": [
       "<Figure size 432x288 with 1 Axes>"
      ]
     },
     "metadata": {
      "needs_background": "light"
     },
     "output_type": "display_data"
    }
   ],
   "source": [
    "#représentation graphique\n",
    "\n",
    "plt.xlabel(\"position\")\n",
    "plt.ylabel(\"profondeur\")\n",
    "plt.title(\"résultat espérance conditionnelle\")\n",
    "plt.scatter(discretization, complete_profondeur(m_Z_t), color='b', linewidth=\"0.1\",\n",
    "            label=' résultats espérances conditionnelles')\n",
    "plt.scatter(np.asarray(observation_indexes)*5, depth, color='r', linewidth=\"0.1\", label='observations')\n",
    "plt.legend()\n",
    "plt.show()"
   ]
  },
  {
   "cell_type": "code",
   "execution_count": 16,
   "metadata": {},
   "outputs": [
    {
     "data": {
      "text/plain": [
       "<function matplotlib.pyplot.show(*args, **kw)>"
      ]
     },
     "execution_count": 16,
     "metadata": {},
     "output_type": "execute_result"
    },
    {
     "data": {
      "image/png": "[encoded data removed]",
      "text/plain": [
       "<Figure size 432x288 with 1 Axes>"
      ]
     },
     "metadata": {
      "needs_background": "light"
     },
     "output_type": "display_data"
    }
   ],
   "source": [
    "#question 6\n",
    "#on calcule la matrice de covariance conditionnelle avec la formule du cours Proba IV. La fonction numpy matmul \n",
    "#permet de faire le produit matriciel de 2 arrays.\n",
    "\n",
    "CS_Z = C_inc - np.matmul(np.matmul(C_T_Z,(Inv_C_T)),(C_T_Z.T))\n",
    "Diag = [CS_Z[k][k] for k in range(95)]\n",
    "\n",
    "#les points connus ont une variance conditionnelle nulle, il faut en tenir compte\n",
    "\n",
    "var_condi = [(0 if i%20 == 0 else Diag[i - (i//20 + 1)]) for i in range (101)]\n",
    "position = [k for k in range(101)]\n",
    "             \n",
    "plt.plot(position, var_condi)\n",
    "plt.xlabel(\"position\")\n",
    "plt.ylabel(\"variance conditionnelle\")\n",
    "plt.show"
   ]
  },
  {
   "cell_type": "markdown",
   "metadata": {},
   "source": [
    "On constate que plus la position est éloignée d'un point d'observation, et plus la variance conditionnelle augmente : cela s'explique par le fait que la profondeur est moins bien connue lorsque l'on s'éloigne des points d'observation."
   ]
  },
  {
   "cell_type": "code",
   "execution_count": 20,
   "metadata": {},
   "outputs": [
    {
     "data": {
      "text/plain": [
       "<matplotlib.collections.PathCollection at 0x11c1f0400>"
      ]
     },
     "execution_count": 20,
     "metadata": {},
     "output_type": "execute_result"
    },
    {
     "data": {
      "image/png": "[encoded data removed]",
      "text/plain": [
       "<Figure size 432x288 with 1 Axes>"
      ]
     },
     "metadata": {
      "needs_background": "light"
     },
     "output_type": "display_data"
    }
   ],
   "source": [
    "#question 7\n",
    "#on se sert de la réponse à la question théorique 4\n",
    "\n",
    "R = np.linalg.cholesky(CS_Z)\n",
    "\n",
    "def simul() :\n",
    "    Y1 = np.zeros(95)\n",
    "    Y2 = np.zeros(95)\n",
    "    for i in range(95) :\n",
    "        U = np.random.uniform()\n",
    "        V = np.random.uniform()\n",
    "        Y1[i] = np.sqrt(-2*np.log(U))*np.cos(2*np.pi*V) #vecteur gaussien centré, réduit construit selon la méthode de Box-Muller\n",
    "        Y2[i] = np.random.randn(1)\n",
    "    Z = m_Z_t + R.dot(Y2)\n",
    "    \n",
    "    \n",
    "    for k in range(len(Z)) :\n",
    "        if Z[k]>0:\n",
    "            Z[k] = 0\n",
    "        \n",
    "    return(Z)\n",
    "\n",
    "Z = simul()\n",
    "plt.xlabel(\"position\")\n",
    "plt.ylabel(\"profondeur\")\n",
    "plt.scatter(discretization, complete_profondeur(m_Z_t), color='b', linewidth=\"0.1\",\n",
    "            label=' résultats espérances conditionnelles')\n",
    "\n",
    "plt.scatter(discretization, complete_profondeur(Z), color='g', linewidth=\"0.1\",\n",
    "            label=' résultats simulation conditionnelle')\n",
    "plt.scatter(np.asarray(observation_indexes)*5, depth,color='r', linewidth=\"0.1\", label='observations')\n"
   ]
  },
  {
   "cell_type": "code",
   "execution_count": 21,
   "metadata": {},
   "outputs": [],
   "source": [
    "#question 8\n",
    "#on applique le théorème de Pythagore\n",
    "\n",
    "def longueur_cable(Profond, pas):\n",
    "    L = []\n",
    "    for k in range(len(Profond)-1):\n",
    "        L.append(np.sqrt(pas**2 + (Profond[k+1]-Profond[k])**2))\n",
    "    return(L)"
   ]
  },
  {
   "cell_type": "code",
   "execution_count": 30,
   "metadata": {},
   "outputs": [
    {
     "ename": "TypeError",
     "evalue": "only integer scalar arrays can be converted to a scalar index",
     "output_type": "error",
     "traceback": [
      "\u001b[0;31m---------------------------------------------------------------------------\u001b[0m",
      "\u001b[0;31mTypeError\u001b[0m                                 Traceback (most recent call last)",
      "\u001b[0;32m<ipython-input-30-d130a775e9c0>\u001b[0m in \u001b[0;36m<module>\u001b[0;34m\u001b[0m\n\u001b[1;32m     21\u001b[0m \u001b[0;32mfor\u001b[0m \u001b[0mi\u001b[0m \u001b[0;32min\u001b[0m \u001b[0mSimulation_100\u001b[0m\u001b[0;34m:\u001b[0m\u001b[0;34m\u001b[0m\u001b[0;34m\u001b[0m\u001b[0m\n\u001b[1;32m     22\u001b[0m     \u001b[0mL\u001b[0m \u001b[0;34m=\u001b[0m \u001b[0mlongueur_cable\u001b[0m\u001b[0;34m(\u001b[0m\u001b[0mcomplete_profondeur\u001b[0m\u001b[0;34m(\u001b[0m\u001b[0mi\u001b[0m\u001b[0;34m)\u001b[0m\u001b[0;34m,\u001b[0m \u001b[0;36m5\u001b[0m\u001b[0;34m)\u001b[0m\u001b[0;34m\u001b[0m\u001b[0;34m\u001b[0m\u001b[0m\n\u001b[0;32m---> 23\u001b[0;31m     \u001b[0mMoy\u001b[0m \u001b[0;34m+=\u001b[0m \u001b[0mL\u001b[0m\u001b[0;34m[\u001b[0m\u001b[0mi\u001b[0m\u001b[0;34m]\u001b[0m\u001b[0;34m\u001b[0m\u001b[0;34m\u001b[0m\u001b[0m\n\u001b[0m\u001b[1;32m     24\u001b[0m \u001b[0mMoy\u001b[0m \u001b[0;34m=\u001b[0m \u001b[0mMoy\u001b[0m\u001b[0;34m/\u001b[0m\u001b[0;36m100\u001b[0m\u001b[0;34m\u001b[0m\u001b[0;34m\u001b[0m\u001b[0m\n\u001b[1;32m     25\u001b[0m \u001b[0;34m\u001b[0m\u001b[0m\n",
      "\u001b[0;31mTypeError\u001b[0m: only integer scalar arrays can be converted to a scalar index"
     ]
    }
   ],
   "source": [
    "#question 9\n",
    "\n",
    "def simulation(n):\n",
    "    Results = []\n",
    "    for k in range(n):\n",
    "        X = []\n",
    "        Z = []\n",
    "        for i in range(N-len(observation_indexes)):\n",
    "            X.append(np.sqrt(-2*np.log(rd.random()))*np.cos(2*np.pi*rd.random()))\n",
    "        Z = m_Z_t + np.dot(R, X)\n",
    "        Results.append(Z)\n",
    "    return(Results)\n",
    "\n",
    "#On réalise 100 simulations:\n",
    "\n",
    "Simulation_100 = simulation(100)\n",
    "\n",
    "#On calcule la moyenne des longeurs de câble pour 100 simulations:\n",
    "\n",
    "Moy = 0\n",
    "for i in Simulation_100:\n",
    "    L = longueur_cable(complete_profondeur(i), 5)\n",
    "    Moy += L[i]\n",
    "Moy = Moy/100\n",
    "\n",
    "\n",
    "print(f'Pour 100 simulations, la moyenne des longueurs est {Moy}')\n",
    "print(f\"La longueur de l'espérance conditionnelle est alors {longueur_cable(complete_profondeur(m_Z_t), 5)}\")"
   ]
  },
  {
   "cell_type": "code",
   "execution_count": 26,
   "metadata": {},
   "outputs": [
    {
     "ename": "TypeError",
     "evalue": "unsupported operand type(s) for +=: 'int' and 'list'",
     "output_type": "error",
     "traceback": [
      "\u001b[0;31m---------------------------------------------------------------------------\u001b[0m",
      "\u001b[0;31mTypeError\u001b[0m                                 Traceback (most recent call last)",
      "\u001b[0;32m<ipython-input-26-e770e2ff85eb>\u001b[0m in \u001b[0;36m<module>\u001b[0;34m\u001b[0m\n\u001b[1;32m      7\u001b[0m \u001b[0;32mfor\u001b[0m \u001b[0mi\u001b[0m \u001b[0;32min\u001b[0m \u001b[0mrange\u001b[0m\u001b[0;34m(\u001b[0m\u001b[0mlen\u001b[0m\u001b[0;34m(\u001b[0m\u001b[0mSimulation_100\u001b[0m\u001b[0;34m)\u001b[0m\u001b[0;34m)\u001b[0m\u001b[0;34m:\u001b[0m\u001b[0;34m\u001b[0m\u001b[0;34m\u001b[0m\u001b[0m\n\u001b[1;32m      8\u001b[0m     \u001b[0mN_values\u001b[0m\u001b[0;34m.\u001b[0m\u001b[0mappend\u001b[0m\u001b[0;34m(\u001b[0m\u001b[0mi\u001b[0m\u001b[0;34m+\u001b[0m\u001b[0;36m1\u001b[0m\u001b[0;34m)\u001b[0m\u001b[0;34m\u001b[0m\u001b[0;34m\u001b[0m\u001b[0m\n\u001b[0;32m----> 9\u001b[0;31m     \u001b[0mlongueur_tot\u001b[0m \u001b[0;34m+=\u001b[0m \u001b[0mlongueur_cable\u001b[0m\u001b[0;34m(\u001b[0m\u001b[0mcomplete_profondeur\u001b[0m\u001b[0;34m(\u001b[0m\u001b[0mSimulation_100\u001b[0m\u001b[0;34m[\u001b[0m\u001b[0mi\u001b[0m\u001b[0;34m]\u001b[0m\u001b[0;34m)\u001b[0m\u001b[0;34m,\u001b[0m \u001b[0;36m5\u001b[0m\u001b[0;34m)\u001b[0m\u001b[0;34m\u001b[0m\u001b[0;34m\u001b[0m\u001b[0m\n\u001b[0m\u001b[1;32m     10\u001b[0m     \u001b[0mmoy_longueur\u001b[0m \u001b[0;34m=\u001b[0m \u001b[0mlongueur_tot\u001b[0m\u001b[0;34m/\u001b[0m\u001b[0;34m(\u001b[0m\u001b[0mi\u001b[0m\u001b[0;34m+\u001b[0m\u001b[0;36m1\u001b[0m\u001b[0;34m)\u001b[0m\u001b[0;34m\u001b[0m\u001b[0;34m\u001b[0m\u001b[0m\n\u001b[1;32m     11\u001b[0m     \u001b[0mMn\u001b[0m\u001b[0;34m.\u001b[0m\u001b[0mappend\u001b[0m\u001b[0;34m(\u001b[0m\u001b[0mmoy_longueur\u001b[0m\u001b[0;34m)\u001b[0m\u001b[0;34m\u001b[0m\u001b[0;34m\u001b[0m\u001b[0m\n",
      "\u001b[0;31mTypeError\u001b[0m: unsupported operand type(s) for +=: 'int' and 'list'"
     ]
    }
   ],
   "source": [
    "#question 10 \n",
    "\n",
    "Mn = []\n",
    "N_values=[]\n",
    "longueur_tot = 0\n",
    "moy_longueur = 0\n",
    "for i in range(len(Simulation_100)):\n",
    "    N_values.append(i+1)\n",
    "    longueur_tot += longueur_cable(complete_profondeur(Simulation_100[i]), 5)\n",
    "    moy_longueur = longueur_tot/(i+1)\n",
    "    Mn.append(moy_longueur)\n",
    "    \n",
    "\n",
    "plt.scatter(N_values,Mn)\n",
    "plt.xlabel(\"Valeurs de n\")\n",
    "plt.ylabel('Longueur moyenne de câble')\n",
    "plt.show()\n",
    "    "
   ]
  },
  {
   "cell_type": "code",
   "execution_count": null,
   "metadata": {},
   "outputs": [],
   "source": [
    "#question 11\n",
    "\n",
    "Long_cables = []\n",
    "for i in Simulation_100:\n",
    "    Long_cables.append(longueur_cable(complete_profondeur(i), 5))\n",
    "        \n",
    "plt.hist(Long_cables, range = (515, 530), bins = 10, color = 'blue',\n",
    "            edgecolor = 'black')\n",
    "plt.xlabel('longueur de câble')\n",
    "plt.ylabel('nombre de câbles')\n",
    "plt.show()"
   ]
  },
  {
   "cell_type": "code",
   "execution_count": null,
   "metadata": {},
   "outputs": [],
   "source": [
    "# question 12\n",
    "\n",
    "\n",
    "S1, S2 = 0, 0\n",
    "\n",
    "for i in Mn : \n",
    "    S1 += i\n",
    "moy = S1/100\n",
    "\n",
    "for i in Mn :\n",
    "    S2 += (i-moy)**2\n",
    "    \n",
    "ecart_type = np.sqrt(S2/100)\n",
    "\n",
    "print(Mn)\n",
    "print(ecart_type)\n",
    "\n",
    "écart = 0.95*1/2*ecart_type/(np.sqrt(100))\n",
    "\n",
    "print(f\"l'intervalle de confiance a 95% vaut alors: [{moy-écart} ; {moy+écart}]\") "
   ]
  },
  {
   "cell_type": "code",
   "execution_count": 27,
   "metadata": {},
   "outputs": [
    {
     "ename": "TypeError",
     "evalue": "'>' not supported between instances of 'list' and 'int'",
     "output_type": "error",
     "traceback": [
      "\u001b[0;31m---------------------------------------------------------------------------\u001b[0m",
      "\u001b[0;31mTypeError\u001b[0m                                 Traceback (most recent call last)",
      "\u001b[0;32m<ipython-input-27-f48492faffad>\u001b[0m in \u001b[0;36m<module>\u001b[0;34m\u001b[0m\n\u001b[1;32m      8\u001b[0m \u001b[0;34m\u001b[0m\u001b[0m\n\u001b[1;32m      9\u001b[0m \u001b[0;32mfor\u001b[0m \u001b[0mi\u001b[0m \u001b[0;32min\u001b[0m \u001b[0mSimulation_40000\u001b[0m\u001b[0;34m:\u001b[0m\u001b[0;34m\u001b[0m\u001b[0;34m\u001b[0m\u001b[0m\n\u001b[0;32m---> 10\u001b[0;31m     \u001b[0;32mif\u001b[0m \u001b[0mlongueur_cable\u001b[0m\u001b[0;34m(\u001b[0m\u001b[0mcomplete_profondeur\u001b[0m\u001b[0;34m(\u001b[0m\u001b[0mi\u001b[0m\u001b[0;34m)\u001b[0m\u001b[0;34m,\u001b[0m\u001b[0;36m5\u001b[0m\u001b[0;34m)\u001b[0m \u001b[0;34m>\u001b[0m \u001b[0;36m525\u001b[0m\u001b[0;34m:\u001b[0m \u001b[0;31m#question 5\u001b[0m\u001b[0;34m\u001b[0m\u001b[0;34m\u001b[0m\u001b[0m\n\u001b[0m\u001b[1;32m     11\u001b[0m         \u001b[0mCas_favorables\u001b[0m \u001b[0;34m+=\u001b[0m \u001b[0;36m1\u001b[0m\u001b[0;34m\u001b[0m\u001b[0;34m\u001b[0m\u001b[0m\n\u001b[1;32m     12\u001b[0m \u001b[0;34m\u001b[0m\u001b[0m\n",
      "\u001b[0;31mTypeError\u001b[0m: '>' not supported between instances of 'list' and 'int'"
     ]
    }
   ],
   "source": [
    "#question 13\n",
    "#on va réaliser un grand nombre de simulation grâce à l'algorithme de la question 9, puis on évalut la probabilité\n",
    "#que la longueur du câble dépasse 525m par (nombre de cas favorables)/(nombre de simulations)\n",
    "\n",
    "\n",
    "Simulation_40000 = simulation(40000)\n",
    "Cas_favorables = 0\n",
    "\n",
    "for i in Simulation_40000:\n",
    "    if longueur_cable(complete_profondeur(i),5) > 525: #question 5\n",
    "        Cas_favorables += 1\n",
    "    \n",
    "print(f'la probabilité que la longueur de câble soit supérieure à 525m vaut {Nbre_cas_fav/50000:.2f}')"
   ]
  },
  {
   "cell_type": "code",
   "execution_count": null,
   "metadata": {},
   "outputs": [],
   "source": [
    "#question 14\n",
    "\n",
    "L_1000 = simulation(1000)\n",
    "L_10000 = simulation(10000)\n",
    "L_20000 = simulation(100000)\n",
    "L = [L_1000, L_10000, L_100000]\n",
    "\n",
    "fig, axes = plt.subplots(2, 3, figsize = (15, 10))\n",
    "for i in range(3) :\n",
    "    affichage_Mn(L[i][0], axes[0, i]) #question 10\n",
    "    histogramme(L[i][0], axes[1, i]) #question 11"
   ]
  }
 ],
 "metadata": {
  "kernelspec": {
   "display_name": "Python 3",
   "language": "python",
   "name": "python3"
  },
  "language_info": {
   "codemirror_mode": {
    "name": "ipython",
    "version": 3
   },
   "file_extension": ".py",
   "mimetype": "text/x-python",
   "name": "python",
   "nbconvert_exporter": "python",
   "pygments_lexer": "ipython3",
   "version": "3.7.3"
  }
 },
 "nbformat": 4,
 "nbformat_minor": 2
}
